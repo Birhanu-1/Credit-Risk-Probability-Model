{
 "cells": [
  {
   "cell_type": "markdown",
   "id": "4110cc98-6c33-4681-8e13-1b614c902233",
   "metadata": {},
   "source": [
    "# Import  Labraries"
   ]
  },
  {
   "cell_type": "code",
   "execution_count": 1,
   "id": "454189c4-1adb-495e-a0f9-7bddefe9dd5e",
   "metadata": {},
   "outputs": [],
   "source": [
    "from fastapi import FastAPI\n",
    "from pydantic import BaseModel\n",
    "import pandas as pd\n",
    "import joblib\n",
    "from typing import List\n",
    "app = FastAPI(title=\"Credit Risk Prediction API\")"
   ]
  },
  {
   "cell_type": "markdown",
   "id": "b38bdda9-4768-4ccf-b12b-477dc0ec5534",
   "metadata": {},
   "source": [
    "# Load the model"
   ]
  },
  {
   "cell_type": "code",
   "execution_count": 2,
   "id": "9d0c1d21-9d73-434f-bc32-65219112f8c0",
   "metadata": {},
   "outputs": [],
   "source": [
    "model = joblib.load(\"../data/best_model.pkl\")"
   ]
  },
  {
   "cell_type": "markdown",
   "id": "94bfced6-4571-4e57-a134-61cc94a73b4c",
   "metadata": {},
   "source": [
    "# Define request and response schemas"
   ]
  },
  {
   "cell_type": "code",
   "execution_count": 3,
   "id": "ca6737f3-9f66-4a50-a245-be991bad1508",
   "metadata": {},
   "outputs": [],
   "source": [
    "class CustomerData(BaseModel):\n",
    "    Amount: float\n",
    "    Value: float\n",
    "    PricingStrategy: int\n",
    "    FraudResult: int\n",
    "class PredictionResponse(BaseModel):\n",
    "    is_high_risk_probability: float\n",
    "\n",
    "@app.post(\"/predict\", response_model=PredictionResponse)\n",
    "def predict_risk(data: CustomerData):\n",
    "    input_df = pd.DataFrame([data.dict()])\n",
    "    probability = model.predict_proba(input_df)[0][1]\n",
    "    return {\"is_high_risk_probability\": probability}\n"
   ]
  },
  {
   "cell_type": "code",
   "execution_count": null,
   "id": "d79319fb-34aa-4b1b-bc0c-eefb19ab8338",
   "metadata": {},
   "outputs": [],
   "source": []
  }
 ],
 "metadata": {
  "kernelspec": {
   "display_name": "Python 3 (ipykernel)",
   "language": "python",
   "name": "python3"
  },
  "language_info": {
   "codemirror_mode": {
    "name": "ipython",
    "version": 3
   },
   "file_extension": ".py",
   "mimetype": "text/x-python",
   "name": "python",
   "nbconvert_exporter": "python",
   "pygments_lexer": "ipython3",
   "version": "3.13.2"
  }
 },
 "nbformat": 4,
 "nbformat_minor": 5
}
