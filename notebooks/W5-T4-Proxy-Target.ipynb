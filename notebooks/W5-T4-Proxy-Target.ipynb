{
 "cells": [
  {
   "cell_type": "markdown",
   "id": "0c01c132-f142-474c-9ed0-fc58b77d6507",
   "metadata": {},
   "source": [
    "# Import Libraries"
   ]
  },
  {
   "cell_type": "code",
   "execution_count": 13,
   "id": "7aa8bbb6-dad6-4681-86c1-ca414d2eb15a",
   "metadata": {},
   "outputs": [],
   "source": [
    "import pandas as pd\n",
    "import numpy as np\n",
    "from datetime import timedelta\n",
    "from sklearn.preprocessing import StandardScaler\n",
    "from sklearn.cluster import KMeans\n",
    "import matplotlib.pyplot as plt\n",
    "import seaborn as sns"
   ]
  },
  {
   "cell_type": "markdown",
   "id": "9f9d59cf-cfbe-4401-ab92-0a33a807b344",
   "metadata": {
    "jp-MarkdownHeadingCollapsed": true
   },
   "source": [
    "# Load and Prepare Data"
   ]
  },
  {
   "cell_type": "code",
   "execution_count": 3,
   "id": "d54911ed-0d9b-41ca-ae64-1e37120161c2",
   "metadata": {},
   "outputs": [],
   "source": [
    "df = pd.read_csv(\"../data/processed_data.csv\") \n",
    "df['TransactionStartTime'] = pd.to_datetime(df['TransactionStartTime'])"
   ]
  },
  {
   "cell_type": "markdown",
   "id": "854a2527-f9f4-48b3-a1f3-6a67f495ec33",
   "metadata": {},
   "source": [
    "# Calculate RFM Metrics"
   ]
  },
  {
   "cell_type": "code",
   "execution_count": 14,
   "id": "89bbfed5-9854-4ad1-b507-c58497c86a57",
   "metadata": {},
   "outputs": [],
   "source": [
    "def calculate_rfm(df, snapshot_date=None):\n",
    "    if snapshot_date is None:\n",
    "        snapshot_date = pd.to_datetime(df['TransactionStartTime']).max() + pd.Timedelta(days=1)\n",
    "\n",
    "    df['TransactionStartTime'] = pd.to_datetime(df['TransactionStartTime'], errors='coerce')\n",
    "    rfm = df.groupby('CustomerId').agg({\n",
    "        'TransactionStartTime': lambda x: (snapshot_date - x.max()).days,\n",
    "        'TransactionId': 'count',\n",
    "        'Amount': 'sum'\n",
    "    }).rename(columns={\n",
    "        'TransactionStartTime': 'Recency',\n",
    "        'TransactionId': 'Frequency',\n",
    "        'Amount': 'Monetary'\n",
    "    }).reset_index()\n",
    "\n",
    "    return rfm"
   ]
  },
  {
   "cell_type": "markdown",
   "id": "6cbc3683-a470-484d-b067-14f297f5d051",
   "metadata": {},
   "source": [
    "# assign_risk_label"
   ]
  },
  {
   "cell_type": "code",
   "execution_count": 15,
   "id": "daa96236-6a92-438c-87ef-2b1a475c4bb0",
   "metadata": {},
   "outputs": [],
   "source": [
    "def assign_risk_label(rfm_df, n_clusters=3, random_state=42):\n",
    "    scaler = StandardScaler()\n",
    "    rfm_scaled = scaler.fit_transform(rfm_df[['Recency', 'Frequency', 'Monetary']])\n",
    "\n",
    "    kmeans = KMeans(n_clusters=n_clusters, random_state=random_state, n_init='auto')\n",
    "    rfm_df['cluster'] = kmeans.fit_predict(rfm_scaled)\n",
    "\n",
    "    # Identify the high-risk cluster (lowest engagement)\n",
    "    cluster_summary = rfm_df.groupby('cluster')[['Recency', 'Frequency', 'Monetary']].mean()\n",
    "    high_risk_cluster = cluster_summary.sort_values(by=['Frequency', 'Monetary']).index[0]\n",
    "\n",
    "    rfm_df['is_high_risk'] = (rfm_df['cluster'] == high_risk_cluster).astype(int)\n",
    "    return rfm_df[['CustomerId', 'is_high_risk']]\n"
   ]
  },
  {
   "cell_type": "markdown",
   "id": "de0d68a8-251a-41ad-9760-eaa82b42583b",
   "metadata": {},
   "source": [
    "# add high risk label to data"
   ]
  },
  {
   "cell_type": "code",
   "execution_count": 16,
   "id": "92299725-4f81-4e48-b6da-b7c019ce6fca",
   "metadata": {},
   "outputs": [],
   "source": [
    "def add_high_risk_label_to_data(original_data, rfm_labels):\n",
    "    return original_data.merge(rfm_labels, on='CustomerId', how='left').fillna({'is_high_risk': 0})"
   ]
  },
  {
   "cell_type": "code",
   "execution_count": 8,
   "id": "83c2fd04-83ad-4d57-b52d-c2bf961f6ed6",
   "metadata": {},
   "outputs": [
    {
     "name": "stdout",
     "output_type": "stream",
     "text": [
      "Cluster Summary:\n",
      "          Recency  Frequency     Monetary\n",
      "Cluster                                 \n",
      "0           61.9        7.7      81723.8\n",
      "1           29.0     4091.0 -104900000.0\n",
      "2           12.7       34.8     272654.6\n"
     ]
    }
   ],
   "source": [
    "cluster_summary = rfm.groupby('Cluster')[['Recency', 'Frequency', 'Monetary']].mean().round(1)\n",
    "print(\"Cluster Summary:\\n\", cluster_summary)"
   ]
  },
  {
   "cell_type": "markdown",
   "id": "4960818a-2b08-491e-b086-ad66a53d3d04",
   "metadata": {},
   "source": [
    "# Visualize Cluster Profiles"
   ]
  },
  {
   "cell_type": "code",
   "execution_count": 9,
   "id": "ebea1dc2-e2c3-4c8c-86da-b31c7588696e",
   "metadata": {},
   "outputs": [
    {
     "data": {
      "image/png": "[encoded data removed]",
      "text/plain": [
       "<Figure size 800x400 with 2 Axes>"
      ]
     },
     "metadata": {},
     "output_type": "display_data"
    }
   ],
   "source": [
    "plt.figure(figsize=(8, 4))\n",
    "sns.heatmap(cluster_summary, annot=True, cmap='Blues')\n",
    "plt.title(\"RFM Cluster Profiles\")\n",
    "plt.show()"
   ]
  },
  {
   "cell_type": "markdown",
   "id": "80870144-d952-47f1-ae02-98f11da30a2a",
   "metadata": {},
   "source": [
    "# Check sample"
   ]
  },
  {
   "cell_type": "code",
   "execution_count": 18,
   "id": "ddcaaef1-88a3-4440-b718-9033677035dd",
   "metadata": {},
   "outputs": [
    {
     "name": "stdout",
     "output_type": "stream",
     "text": [
      "✅ Labeled dataset saved to ./data/labeled_data.csv\n"
     ]
    }
   ],
   "source": [
    "if __name__ == \"__main__\":\n",
    "    df = pd.read_csv(\"../data/data.csv\")\n",
    "    rfm = calculate_rfm(df)\n",
    "    rfm_labels = assign_risk_label(rfm)\n",
    "    merged_df = add_high_risk_label_to_data(df, rfm_labels)\n",
    "    merged_df.to_csv(\"../data/labeled_data.csv\", index=False)\n",
    "    print(\"✅ Labeled dataset saved to ./data/labeled_data.csv\")\n"
   ]
  },
  {
   "cell_type": "code",
   "execution_count": null,
   "id": "c06fc628-d165-43fc-b79e-7f0d08d3db8d",
   "metadata": {},
   "outputs": [],
   "source": []
  }
 ],
 "metadata": {
  "kernelspec": {
   "display_name": "Python 3 (ipykernel)",
   "language": "python",
   "name": "python3"
  },
  "language_info": {
   "codemirror_mode": {
    "name": "ipython",
    "version": 3
   },
   "file_extension": ".py",
   "mimetype": "text/x-python",
   "name": "python",
   "nbconvert_exporter": "python",
   "pygments_lexer": "ipython3",
   "version": "3.13.2"
  }
 },
 "nbformat": 4,
 "nbformat_minor": 5
}
