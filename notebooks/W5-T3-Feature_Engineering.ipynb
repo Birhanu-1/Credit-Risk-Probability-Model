{
 "cells": [
  {
   "cell_type": "markdown",
   "id": "3dd166f3-bb35-4ca4-a35c-e57aab4b37b8",
   "metadata": {},
   "source": [
    "# Import Labraries"
   ]
  },
  {
   "cell_type": "code",
   "execution_count": 2,
   "id": "e301d4c8-2bd4-4d79-8988-321fe5e1b04c",
   "metadata": {},
   "outputs": [],
   "source": [
    "import pandas as pd\n",
    "import numpy as np\n",
    "from sklearn.base import BaseEstimator, TransformerMixin\n",
    "from sklearn.pipeline import Pipeline, FeatureUnion\n",
    "from sklearn.preprocessing import StandardScaler, OneHotEncoder, LabelEncoder\n",
    "from sklearn.impute import SimpleImputer\n",
    "from sklearn.compose import ColumnTransformer\n",
    "from xverse.transformer import WOE"
   ]
  },
  {
   "cell_type": "markdown",
   "id": "bebfcbdd-0ea7-44a5-a8af-7e2723eb3218",
   "metadata": {},
   "source": [
    "# Extracts temporal features from the 'TransactionStartTime"
   ]
  },
  {
   "cell_type": "code",
   "execution_count": 3,
   "id": "110c46ad-3f35-4d98-9522-13568dda2b40",
   "metadata": {},
   "outputs": [],
   "source": [
    "class TransactionTimeFeatures(BaseEstimator, TransformerMixin):\n",
    "   \n",
    "    def __init__(self, datetime_col='TransactionStartTime'):\n",
    "        self.datetime_col = datetime_col\n",
    "\n",
    "    def fit(self, X, y=None):\n",
    "        return self\n",
    "\n",
    "    def transform(self, X):\n",
    "        X = X.copy()\n",
    "        X[self.datetime_col] = pd.to_datetime(X[self.datetime_col], errors='coerce')\n",
    "        X['TransactionHour'] = X[self.datetime_col].dt.hour\n",
    "        X['TransactionDay'] = X[self.datetime_col].dt.day\n",
    "        X['TransactionMonth'] = X[self.datetime_col].dt.month\n",
    "        X['TransactionYear'] = X[self.datetime_col].dt.year\n",
    "        return X.drop(columns=[self.datetime_col])"
   ]
  },
  {
   "cell_type": "markdown",
   "id": "73ad0a4c-ac8b-4837-9e28-875048131400",
   "metadata": {},
   "source": [
    "# Computes aggregate transaction statistics"
   ]
  },
  {
   "cell_type": "code",
   "execution_count": 4,
   "id": "dfbc8e93-6727-409a-bf77-2bb6bd2481d2",
   "metadata": {},
   "outputs": [],
   "source": [
    "class CustomerAggregates(BaseEstimator, TransformerMixin):\n",
    "    \n",
    "    def __init__(self):\n",
    "        pass\n",
    "\n",
    "    def fit(self, X, y=None):\n",
    "        return self\n",
    "\n",
    "    def transform(self, X):\n",
    "        X = X.copy()\n",
    "        agg = X.groupby('CustomerId')['Amount'].agg([\n",
    "            ('TotalTransactionAmount', 'sum'),\n",
    "            ('AverageTransactionAmount', 'mean'),\n",
    "            ('TransactionCount', 'count'),\n",
    "            ('StdDevTransactionAmount', 'std')\n",
    "        ]).reset_index()\n",
    "        return X.merge(agg, on='CustomerId', how='left')"
   ]
  },
  {
   "cell_type": "markdown",
   "id": "dc34f336-c98f-4c85-b4fe-d95266638118",
   "metadata": {},
   "source": [
    "# Main Feature Engineering Pipeline"
   ]
  },
  {
   "cell_type": "code",
   "execution_count": 5,
   "id": "12518fcf-f3d1-4a43-9ba3-3b52523176dc",
   "metadata": {},
   "outputs": [],
   "source": [
    "def build_feature_pipeline():\n",
    "    numerical_features = ['Amount', 'Value', 'TransactionHour', 'TransactionDay', 'TransactionMonth',\n",
    "                          'TransactionYear', 'TotalTransactionAmount', 'AverageTransactionAmount',\n",
    "                          'TransactionCount', 'StdDevTransactionAmount']\n",
    "    categorical_features = ['CurrencyCode', 'CountryCode', 'ProviderId', 'ProductCategory',\n",
    "                            'ChannelId', 'PricingStrategy']\n",
    "\n",
    "    numerical_pipeline = Pipeline([\n",
    "        ('imputer', SimpleImputer(strategy='median')),\n",
    "        ('scaler', StandardScaler())\n",
    "    ])\n",
    "\n",
    "    categorical_pipeline = Pipeline([\n",
    "        ('imputer', SimpleImputer(strategy='most_frequent')),\n",
    "        ('encoder', OneHotEncoder(handle_unknown='ignore'))\n",
    "    ])\n",
    "\n",
    "    preprocessor = ColumnTransformer([\n",
    "        ('num', numerical_pipeline, numerical_features),\n",
    "        ('cat', categorical_pipeline, categorical_features)\n",
    "    ])\n",
    "\n",
    "    pipeline = Pipeline([\n",
    "        ('time_features', TransactionTimeFeatures(datetime_col='TransactionStartTime')),\n",
    "        ('aggregate_features', CustomerAggregates()),\n",
    "        ('preprocessor', preprocessor)\n",
    "    ])\n",
    "\n",
    "    return pipeline\n"
   ]
  },
  {
   "cell_type": "markdown",
   "id": "9c1e9c63-ba30-4638-80a0-bddb6d8424a9",
   "metadata": {},
   "source": [
    "# Sample Usage with Local Dataset"
   ]
  },
  {
   "cell_type": "code",
   "execution_count": 6,
   "id": "9236b77d-95a3-42d2-9572-6226db4be271",
   "metadata": {},
   "outputs": [
    {
     "name": "stdout",
     "output_type": "stream",
     "text": [
      "(95662, 35)\n"
     ]
    }
   ],
   "source": [
    "def run_local_pipeline(filepath):\n",
    "    \"\"\"\n",
    "    Load local dataset and run the feature engineering pipeline.\n",
    "    \"\"\"\n",
    "    df = pd.read_csv(filepath)\n",
    "    pipeline = build_feature_pipeline()\n",
    "    transformed_data = pipeline.fit_transform(df)\n",
    "    return transformed_data\n",
    "\n",
    "transformed = run_local_pipeline(\"../data/data.csv\")\n",
    "print(transformed.shape)\n",
    "\n"
   ]
  },
  {
   "cell_type": "code",
   "execution_count": null,
   "id": "b1f10e21-f13d-4030-890a-ab7abe039868",
   "metadata": {},
   "outputs": [],
   "source": []
  }
 ],
 "metadata": {
  "kernelspec": {
   "display_name": "Python 3 (ipykernel)",
   "language": "python",
   "name": "python3"
  },
  "language_info": {
   "codemirror_mode": {
    "name": "ipython",
    "version": 3
   },
   "file_extension": ".py",
   "mimetype": "text/x-python",
   "name": "python",
   "nbconvert_exporter": "python",
   "pygments_lexer": "ipython3",
   "version": "3.13.2"
  }
 },
 "nbformat": 4,
 "nbformat_minor": 5
}
